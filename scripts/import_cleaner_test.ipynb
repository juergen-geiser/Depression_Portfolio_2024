{
 "cells": [
  {
   "cell_type": "code",
   "execution_count": 3,
   "metadata": {},
   "outputs": [
    {
     "ename": "ModuleNotFoundError",
     "evalue": "No module named 'data_cleaner'",
     "output_type": "error",
     "traceback": [
      "\u001b[1;31m---------------------------------------------------------------------------\u001b[0m",
      "\u001b[1;31mModuleNotFoundError\u001b[0m                       Traceback (most recent call last)",
      "Cell \u001b[1;32mIn[3], line 3\u001b[0m\n\u001b[0;32m      1\u001b[0m \u001b[38;5;66;03m#Testfile for data cleansing\u001b[39;00m\n\u001b[0;32m      2\u001b[0m \u001b[38;5;66;03m# Import the class from the file\u001b[39;00m\n\u001b[1;32m----> 3\u001b[0m \u001b[38;5;28;01mfrom\u001b[39;00m \u001b[38;5;21;01mdata_cleaner\u001b[39;00m \u001b[38;5;28;01mimport\u001b[39;00m DepressionAnxietyDataCleaner\n\u001b[0;32m      5\u001b[0m \u001b[38;5;66;03m# Define the paths\u001b[39;00m\n\u001b[0;32m      6\u001b[0m input_path \u001b[38;5;241m=\u001b[39m \u001b[38;5;124m\"\u001b[39m\u001b[38;5;124m/data/depression_anxiety_data.csv\u001b[39m\u001b[38;5;124m\"\u001b[39m\n",
      "\u001b[1;31mModuleNotFoundError\u001b[0m: No module named 'data_cleaner'"
     ]
    }
   ],
   "source": [
    "#Testfile for data cleansing\n",
    "# Import the class from the file\n",
    "from dataset_cleaner import DepressionAnxietyDataCleaner\n",
    "\n",
    "# Define the paths\n",
    "input_path = \"/data/depression_anxiety_data.csv\"\n",
    "output_path = \"/data/cleaned_data.csv\"\n",
    "\n",
    "# Create an instance of the cleaner\n",
    "cleaner = DepressionAnxietyDataCleaner(input_path=input_path, output_path=output_path)\n",
    "\n",
    "# Run the cleaning process\n",
    "cleaner.clean_dataset()\n",
    "\n",
    "# Optionally: Display the cleaned DataFrame\n",
    "cleaned_df = cleaner.df\n",
    "cleaned_df.head()"
   ]
  }
 ],
 "metadata": {
  "kernelspec": {
   "display_name": "stack_ppp_24_env",
   "language": "python",
   "name": "python3"
  },
  "language_info": {
   "codemirror_mode": {
    "name": "ipython",
    "version": 3
   },
   "file_extension": ".py",
   "mimetype": "text/x-python",
   "name": "python",
   "nbconvert_exporter": "python",
   "pygments_lexer": "ipython3",
   "version": "3.12.4"
  }
 },
 "nbformat": 4,
 "nbformat_minor": 2
}
